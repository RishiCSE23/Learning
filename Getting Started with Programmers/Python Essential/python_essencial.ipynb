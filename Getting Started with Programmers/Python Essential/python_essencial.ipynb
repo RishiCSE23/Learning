{
 "cells": [
  {
   "cell_type": "markdown",
   "metadata": {},
   "source": [
    "# Lab Setup "
   ]
  },
  {
   "cell_type": "markdown",
   "metadata": {},
   "source": [
    "1. Install Visual Studio Code \n",
    "2. Install Python \n",
    "    * __Windows__: From Windows Store \n",
    "    * __Linux__: `sudo apt -y install python3 python3-venv python3-pip`\n",
    "3. Setup Vitual Environment (venv) in VSCode \n",
    "    1. Open Powershell as admin then run: `set-ExecutionPolicy Unrestricted` and choose <kbd>A</kbd> for all or <kbd>r</kbd> for run once. \n",
    "    2. Open VS COde Terminal \n",
    "    3. Create a venv with name `venv` : `python -m venv venv`\n",
    "    4. Activate `venv` (prompt wiill change): \n",
    "        1. __Windows__: `.\\venv\\Scripts\\activate`\n",
    "        2. __Linux__: `source venv/bin/activate`\n",
    "    5. __Prepare `venv`__\n",
    "        1. Update pip: `python -m pip install --upgrade pip`\n",
    "        2. Build `venv`: `python -m pip install -r requirements.txt`\n",
    "    5. Install _Python_ Extension from Microsoft.\n",
    "    6. Open Command Pallate (<kbd>CTRL</kbd> + <kbd>Shift</kbd> + <kbd>P</kbd>) \n",
    "        1. Search for Python:set-interpreter \n",
    "        2. Choose `venv:venv`\n",
    "4. Done!"
   ]
  },
  {
   "cell_type": "markdown",
   "metadata": {},
   "source": [
    "# 1. Introduction "
   ]
  },
  {
   "cell_type": "markdown",
   "metadata": {},
   "source": [
    "## 1.1. The Zen of Python "
   ]
  },
  {
   "cell_type": "code",
   "execution_count": 1,
   "metadata": {},
   "outputs": [
    {
     "name": "stdout",
     "output_type": "stream",
     "text": [
      "The Zen of Python, by Tim Peters\n",
      "\n",
      "Beautiful is better than ugly.\n",
      "Explicit is better than implicit.\n",
      "Simple is better than complex.\n",
      "Complex is better than complicated.\n",
      "Flat is better than nested.\n",
      "Sparse is better than dense.\n",
      "Readability counts.\n",
      "Special cases aren't special enough to break the rules.\n",
      "Although practicality beats purity.\n",
      "Errors should never pass silently.\n",
      "Unless explicitly silenced.\n",
      "In the face of ambiguity, refuse the temptation to guess.\n",
      "There should be one-- and preferably only one --obvious way to do it.\n",
      "Although that way may not be obvious at first unless you're Dutch.\n",
      "Now is better than never.\n",
      "Although never is often better than *right* now.\n",
      "If the implementation is hard to explain, it's a bad idea.\n",
      "If the implementation is easy to explain, it may be a good idea.\n",
      "Namespaces are one honking great idea -- let's do more of those!\n"
     ]
    }
   ],
   "source": [
    "import this  # not what you may think !! "
   ]
  },
  {
   "cell_type": "markdown",
   "metadata": {},
   "source": [
    "## 1.2. Hello World "
   ]
  },
  {
   "cell_type": "code",
   "execution_count": 2,
   "metadata": {},
   "outputs": [
    {
     "name": "stdout",
     "output_type": "stream",
     "text": [
      "Hello World !!\n"
     ]
    }
   ],
   "source": [
    "print('Hello World !!')  # this is a comment "
   ]
  },
  {
   "cell_type": "markdown",
   "metadata": {},
   "source": [
    "## 1.3. Variables and Types "
   ]
  },
  {
   "cell_type": "markdown",
   "metadata": {},
   "source": [
    "### 1.3.1. Defining a Variable "
   ]
  },
  {
   "cell_type": "code",
   "execution_count": 3,
   "metadata": {},
   "outputs": [
    {
     "name": "stdout",
     "output_type": "stream",
     "text": [
      "name=Nobody, age = 40, height = 5.11, smoker =True relationship status = 0j\n"
     ]
    }
   ],
   "source": [
    "name = 'Nobody' # string \n",
    "age = 40        # integer \n",
    "height = 5.11   # float\n",
    "smoker = True   # boolean \n",
    "rel_status = 0j # complex\n",
    "\n",
    "# formatted string \n",
    "print(f'name={name}, age = {age}, height = {height}, smoker ={smoker} relationship status = {rel_status}')"
   ]
  },
  {
   "cell_type": "markdown",
   "metadata": {},
   "source": [
    "### 1.3.2. Knowing the type of a variable using `type()`"
   ]
  },
  {
   "cell_type": "code",
   "execution_count": 4,
   "metadata": {},
   "outputs": [
    {
     "name": "stdout",
     "output_type": "stream",
     "text": [
      "<class 'str'>\n",
      "<class 'int'>\n",
      "<class 'float'>\n",
      "<class 'bool'>\n",
      "<class 'complex'>\n"
     ]
    }
   ],
   "source": [
    "print(type(name))\n",
    "print(type(age))\n",
    "print(type(height))\n",
    "print(type(smoker))\n",
    "print(type(rel_status))"
   ]
  },
  {
   "cell_type": "markdown",
   "metadata": {},
   "source": [
    "### 1.3.3. Checking if a variable is of a given type using `isinstance()`."
   ]
  },
  {
   "cell_type": "code",
   "execution_count": 5,
   "metadata": {},
   "outputs": [
    {
     "name": "stdout",
     "output_type": "stream",
     "text": [
      "Is name an instance of String?  True\n",
      "Is name an instance of int?  False\n"
     ]
    }
   ],
   "source": [
    "print('Is name an instance of String? ',isinstance(name, str))   \n",
    "print('Is name an instance of int? ',isinstance(name, int))   "
   ]
  },
  {
   "cell_type": "markdown",
   "metadata": {},
   "source": [
    "### 1.3.4. __Strings__ Basics "
   ]
  },
  {
   "cell_type": "code",
   "execution_count": 6,
   "metadata": {},
   "outputs": [
    {
     "name": "stdout",
     "output_type": "stream",
     "text": [
      "string 1:  String1\n",
      "string 2:  string 2\n",
      "Concatination: String1string 2\n",
      "Concat with number: String12\n",
      "Equality Check: False\n"
     ]
    }
   ],
   "source": [
    "str1 = 'String1'\n",
    "str2 = \"string 2\"\n",
    "\n",
    "print('string 1: ', str1)\n",
    "print('string 2: ', str2)\n",
    "\n",
    "print('Concatination:', str1+str2)\n",
    "print('Concat with number:', str1 + str(2))\n",
    "print('Equality Check:', str1 == str2)"
   ]
  },
  {
   "cell_type": "markdown",
   "metadata": {},
   "source": [
    "## 1.4. Native Data Structures\n",
    "\n",
    "| Mutable | Redundency | key | value | ordered | Type |\n",
    "|---|---|---|---|---|---|\n",
    "| Yes | Yes | _No_ | Yes | Yes | __List__ | \n",
    "| _No_ | Yes | _No_ | Yes | Yes | __Tuple__ | \n",
    "| Yes | _No_ | _No_ | Yes | _No_ | __Set__ | \n",
    "| Yes | _No_ | Yes | Yes | _No_ | __Dictionary__ | "
   ]
  },
  {
   "cell_type": "markdown",
   "metadata": {},
   "source": [
    "### 1.4.1. List "
   ]
  },
  {
   "cell_type": "code",
   "execution_count": 7,
   "metadata": {},
   "outputs": [
    {
     "name": "stdout",
     "output_type": "stream",
     "text": [
      "L =  [1, 1.4, 'abc', True, [1, 2, 3]]\n",
      "type of L =  <class 'list'>\n",
      "length of L =  5\n",
      "are [1,2] and [2,1] same :  False\n"
     ]
    }
   ],
   "source": [
    "L = [1,1.4,'abc',True,[1,2,3]]  # create a list \n",
    "print('L = ',L)                 # print a list\n",
    "print('type of L = ', type(L))  # get type\n",
    "print('length of L = ',len(L))  # length \n",
    "print('are [1,2] and [2,1] same : ', [1,2]==[2,1]) # ordered"
   ]
  },
  {
   "cell_type": "markdown",
   "metadata": {},
   "source": [
    "### 1.4.2. Sets  "
   ]
  },
  {
   "cell_type": "code",
   "execution_count": 8,
   "metadata": {},
   "outputs": [
    {
     "name": "stdout",
     "output_type": "stream",
     "text": [
      "st =  {1, 'a', 1.5}\n",
      "type of s =  <class 'set'>\n",
      "length of s =  3\n",
      "are {1,2} and {2,1} same :  True\n"
     ]
    }
   ],
   "source": [
    "s = {1,'a', 1.5, 1}             # creating a set \n",
    "print('st = ',s)                # print a list\n",
    "print('type of s = ', type(s))  # get type\n",
    "print('length of s = ',len(s))  # length \n",
    "print('are {1,2} and {2,1} same : ', {1,2}=={2,1}) # unordered"
   ]
  },
  {
   "cell_type": "markdown",
   "metadata": {},
   "source": [
    "### 1.4.3. Tuple \n",
    "Because _Tuples_ are immutable _Lists_ thus Python uses the memory efficiently while handling Tuples over Lists. "
   ]
  },
  {
   "cell_type": "code",
   "execution_count": 9,
   "metadata": {},
   "outputs": [
    {
     "name": "stdout",
     "output_type": "stream",
     "text": [
      "t =  (1, 'a', 1.5, 1)\n",
      "type of t =  <class 'tuple'>\n",
      "length of t =  4\n",
      "are (1,2) and (2,1) same :  False\n",
      "'tuple' object does not support item assignment\n"
     ]
    }
   ],
   "source": [
    "t = (1,'a', 1.5, 1)            # creating a tuple\n",
    "print('t = ',t)                # print a tuple\n",
    "print('type of t = ', type(t)) # get type\n",
    "print('length of t = ',len(t))  # length \n",
    "print('are (1,2) and (2,1) same : ', (1,2)==(2,1)) # ordered\n",
    "\n",
    "# attempting mutation\n",
    "try:\n",
    "    t[0] = 2     # attempting to alter pos 0 with val 2\n",
    "    print(t)\n",
    "except Exception as e:\n",
    "    print(str(e))"
   ]
  },
  {
   "cell_type": "markdown",
   "metadata": {},
   "source": [
    "### 1.4.4. Dictionary "
   ]
  },
  {
   "cell_type": "code",
   "execution_count": 10,
   "metadata": {},
   "outputs": [
    {
     "name": "stdout",
     "output_type": "stream",
     "text": [
      "{'name': 'Nobody', 'age': 40, 'height': 5.11, 'smoker': True, 'rel_status': <class 'complex'>, 'skills': ['coding', 'driving', 'photography', 'music'], 'location': (100, 200), 'jobs': {'Company A': 'software dev', 'Company B': 'teacher'}}\n"
     ]
    }
   ],
   "source": [
    "# set of key:val pair {k1:v1 , k2:v2 ,...}\n",
    "d= {\n",
    "    \"name\" :'Nobody', \n",
    "    \"age\" :40  ,      \n",
    "    \"height\" :5.11 ,      \n",
    "    \"smoker\" :True,   \n",
    "    \"rel_status\" :type(0j),\n",
    "    \"skills\" : ['coding', 'driving', 'photography', 'music'],\n",
    "    \"location\" : (100,200), \n",
    "    \"jobs\" : {'Company A': 'software dev', 'Company B':'teacher'}\n",
    "}\n",
    "print(d)"
   ]
  },
  {
   "cell_type": "markdown",
   "metadata": {},
   "source": [
    "Lets print pritty "
   ]
  },
  {
   "cell_type": "code",
   "execution_count": 11,
   "metadata": {},
   "outputs": [
    {
     "name": "stdout",
     "output_type": "stream",
     "text": [
      "{ 'age': 40,\n",
      "  'height': 5.11,\n",
      "  'jobs': {'Company A': 'software dev', 'Company B': 'teacher'},\n",
      "  'location': (100, 200),\n",
      "  'name': 'Nobody',\n",
      "  'rel_status': <class 'complex'>,\n",
      "  'skills': ['coding', 'driving', 'photography', 'music'],\n",
      "  'smoker': True}\n"
     ]
    }
   ],
   "source": [
    "from pprint import PrettyPrinter  # import PrittyPriner class from pprint package \n",
    "pp = PrettyPrinter(indent=2)      # set indent value while pritty printing\n",
    "pp.pprint(d)"
   ]
  },
  {
   "cell_type": "code",
   "execution_count": 12,
   "metadata": {},
   "outputs": [
    {
     "name": "stdout",
     "output_type": "stream",
     "text": [
      "type of t =  <class 'tuple'>\n",
      "length of d =  8\n",
      "all Keys of d =  ['name', 'age', 'height', 'smoker', 'rel_status', 'skills', 'location', 'jobs']\n",
      "are {\"a\":1,\"b\":2} and {\"b\":2,\"a\":1} same :  True\n",
      "name of d is : Nobody\n"
     ]
    }
   ],
   "source": [
    "print('type of t = ', type(t))    # get type\n",
    "print('length of d = ',len(d))    # length \n",
    "print('all Keys of d = ', list(d.keys())) # keys() is a iterator \n",
    "print('are {\"a\":1,\"b\":2} and {\"b\":2,\"a\":1} same : ', {'a':1,'b':2}=={'b':2,'a':1}) # unordered\n",
    "print('name of d is :', d['name'])"
   ]
  },
  {
   "cell_type": "markdown",
   "metadata": {},
   "source": [
    "## 1.5. Operators"
   ]
  },
  {
   "cell_type": "markdown",
   "metadata": {},
   "source": [
    "Operators Quick ref:\n",
    "\n",
    "| Operator | type | Name | \n",
    "|---|---|---| \n",
    "| `+` | Math e.g., $a+b$ | addition for __numbers__, concat for __strings__ |\n",
    "| `-` | Math e.g., $a-b$ | Subtraction | \n",
    "| `*` | Math e.g., $a\\times b$ | Multiplication for __numbers__, repeat for __strings__ | \n",
    "| `/` | Math e.g., $\\frac{a}{b}$ | Division | \n",
    "| `%` | Math e.g., $a(\\mod{b})$ | Modulus | \n",
    "| `**` | Math e.g., $a^b$ | Power | \n",
    "| `//` | Math e.g., $\\lfloor\\frac{a}{b}\\rfloor$ | Integer Division | \n",
    "| `==`| Comparison (returns bool) |Equality check | \n",
    "| `<`| Comparison (returns bool) | Less than| \n",
    "| `>`| Comparison (returns bool) | Greater than| \n",
    "| `<=`| Comparison (returns bool) | Less than or equals to| \n",
    "| `>=`| Comparison (returns bool) | Greater than or equals to| \n",
    "| `and` | Logical (evaluates inputs as bool and results bool ) | Logical And | \n",
    "| `or` | Logical | Logical Or | \n",
    "| `not` | Logical (unary) | Logical Not |\n",
    "| `in` | Membership | checks if an item is a member of a collection |  \n",
    "| `not in` | Membership | negates membership |  \n",
    "\n",
    "\n",
    "\n"
   ]
  },
  {
   "cell_type": "code",
   "execution_count": 13,
   "metadata": {},
   "outputs": [
    {
     "name": "stdout",
     "output_type": "stream",
     "text": [
      "--------- Math ------------\n",
      "15 + 7 = 22\n",
      "15 - 7 = 8\n",
      "15 * 7 = 105\n",
      "15 / 7 = 2.142857142857143\n",
      "15 % 7 = 1\n",
      "15 ** 7 = 170859375\n",
      "15 // 7 = 2\n",
      "--------- Comparison -----------\n",
      "15 == 7 ? : False\n",
      "15 < 7 ? : False\n",
      "15 > 7 ? : True\n",
      "15 <= 7 ? : False\n",
      "15 >= 7 ? : True\n",
      "--------- Logical ----------\n",
      "boolean(15)=True, boolean(\"abc\")=True\n",
      "boolean(0)=False, boolean(\"\")=False\n",
      "i \t j \t OR \t AND\n",
      "True \t True \t True \t True\n",
      "True \t False \t True \t False\n",
      "False \t True \t True \t False\n",
      "False \t False \t False \t False\n"
     ]
    }
   ],
   "source": [
    "#variables\n",
    "a = 15\n",
    "b = 7\n",
    "\n",
    "print('--------- Math ------------')\n",
    "print(f'{a} + {b} = {a+b}')\n",
    "print(f'{a} - {b} = {a-b}')\n",
    "print(f'{a} * {b} = {a*b}')\n",
    "print(f'{a} / {b} = {a/b}')\n",
    "print(f'{a} % {b} = {a%b}')\n",
    "print(f'{a} ** {b} = {a**b}')\n",
    "print(f'{a} // {b} = {a//b}')\n",
    "\n",
    "print('--------- Comparison -----------')\n",
    "print(f'{a} == {b} ? : {a==b}')\n",
    "print(f'{a} < {b} ? : {a<b}')\n",
    "print(f'{a} > {b} ? : {a>b}')\n",
    "print(f'{a} <= {b} ? : {a<=b}')\n",
    "print(f'{a} >= {b} ? : {a>=b}')\n",
    "\n",
    "print('--------- Logical ----------')\n",
    "print(f'boolean({a})={bool(a)}, boolean(\"abc\")={bool(\"abc\")}') # non empty is True\n",
    "print(f'boolean({0})={bool(0)}, boolean(\"\")={bool(\"\")}')       # empty is false\n",
    "\n",
    "print(f'i \\t j \\t OR \\t AND')\n",
    "for i in [True, False]:   # membership \n",
    "    for j in [True, False]:\n",
    "        print (f'{i} \\t {j} \\t {i or j} \\t {i and j}')\n"
   ]
  },
  {
   "cell_type": "markdown",
   "metadata": {},
   "source": [
    "## 1.6. Control Structures"
   ]
  },
  {
   "cell_type": "markdown",
   "metadata": {},
   "source": [
    "Summary of Loops:\n",
    " \n",
    "* __Contitional__: `if-elif-else` structure  \n",
    "    ```\n",
    "    if CONDITION_1 :       # madatory  \n",
    "        STMT_1\n",
    "    elif CONDITION_2 :     # optional \n",
    "        STMT_2\n",
    "    else :                 # optional \n",
    "        STMT_3\n",
    "    ```\n",
    "* __Loop__:\n",
    "    * __`while` loop__:\n",
    "        ```\n",
    "        while CONDITION     # till the condition is true\n",
    "            EXEC_STMT       # repeat statement \n",
    "            UPDATE_STMT     # update variable to nearing break condition (otherwise infinity loop)              \n",
    "        ```\n",
    "    * __`for` loop__\n",
    "        ```\n",
    "        for i in COLLECTION: # index i loops in the Collection \n",
    "            EXEC_STMT        # repeat statement for each iteration of\n",
    "        ```"
   ]
  },
  {
   "cell_type": "markdown",
   "metadata": {},
   "source": [
    "### 1.6.1 Condition with `if-elif-else`"
   ]
  },
  {
   "cell_type": "code",
   "execution_count": 16,
   "metadata": {},
   "outputs": [
    {
     "name": "stdout",
     "output_type": "stream",
     "text": [
      "Age entered : 20\n",
      "You are Adult\n"
     ]
    }
   ],
   "source": [
    "age = int(input('Enter your age : '))  # taking input from standard I/O\n",
    "print(f'Age entered : {age}')\n",
    "\n",
    "if age < 0 or age > 100:    # edge case test \n",
    "    print('Invalid Age !')\n",
    "elif age < 18:\n",
    "    print('You are Minor')\n",
    "else:\n",
    "    print('You are Adult')"
   ]
  },
  {
   "cell_type": "markdown",
   "metadata": {},
   "source": [
    "### 1.6.1 `while` loop"
   ]
  },
  {
   "cell_type": "code",
   "execution_count": 17,
   "metadata": {},
   "outputs": [
    {
     "name": "stdout",
     "output_type": "stream",
     "text": [
      "Wrong Password ! retry again...\n",
      "Wrong Password ! retry again...\n",
      "Wrong Password ! retry again...\n",
      "Wrong Password ! retry again...\n",
      "Wrong Password ! retry again...\n",
      "Authentication Failed \n"
     ]
    }
   ],
   "source": [
    "# password checker \n",
    "\n",
    "passwd = 'Password123..'     # supposed to be hidden \n",
    "pass_counter = 5             # retry count \n",
    "\n",
    "while pass_counter > 0:      # repeat until pass_counter == 0\n",
    "    input_passwd = input(f'Enter Password {pass_counter}/{5}: ')  # asking input\n",
    "    if input_passwd == passwd:  # verify \n",
    "        print('Welcome !!')     # success !    \n",
    "        break                   # break the loop\n",
    "    else:\n",
    "        print('Wrong Password ! retry again...')\n",
    "    pass_counter-=1          # update retry counter\n",
    "print('Authentication Failed ')"
   ]
  },
  {
   "cell_type": "markdown",
   "metadata": {},
   "source": [
    "### 1.6.2. `for` loop "
   ]
  },
  {
   "cell_type": "code",
   "execution_count": 18,
   "metadata": {},
   "outputs": [
    {
     "name": "stdout",
     "output_type": "stream",
     "text": [
      "Student DB\n",
      "----------\n",
      "[ {'marks': 55, 'name': 'student_1'},\n",
      "  {'marks': 41, 'name': 'student_2'},\n",
      "  {'marks': 39, 'name': 'student_3'},\n",
      "  {'marks': 40, 'name': 'student_4'},\n",
      "  {'marks': 87, 'name': 'student_5'},\n",
      "  {'marks': 24, 'name': 'student_6'}]\n",
      "Grades\n",
      "------\n",
      "name = student_1 : grade = B\n",
      "name = student_2 : grade = C\n",
      "name = student_3 : grade = C\n",
      "name = student_4 : grade = C\n",
      "name = student_5 : grade = A*\n",
      "name = student_6 : grade = F\n"
     ]
    }
   ],
   "source": [
    "# marks checker \n",
    "\n",
    "import random    # to introduce randomness\n",
    "\n",
    "# students' database\n",
    "students_db = [\n",
    "    {'name' : 'student_1', \"marks\" : random.randint(0,100)},\n",
    "    {'name' : 'student_2', \"marks\" : random.randint(0,100)},\n",
    "    {'name' : 'student_3', \"marks\" : random.randint(0,100)},\n",
    "    {'name' : 'student_4', \"marks\" : random.randint(0,100)},\n",
    "    {'name' : 'student_5', \"marks\" : random.randint(0,100)},\n",
    "    {'name' : 'student_6', \"marks\" : random.randint(0,100)}\n",
    "]\n",
    "\n",
    "# print student database \n",
    "print('Student DB')\n",
    "print('----------')\n",
    "pp.pprint(students_db)\n",
    "\n",
    "# Grade calculation\n",
    "print('Grades')\n",
    "print('------')\n",
    "for student in students_db:     # for all student (index) in the student_db (collection)\n",
    "    # logic of marks to grade\n",
    "    if student['marks'] < 30:\n",
    "        print(f'name = {student[\"name\"]} : grade = F')\n",
    "    elif student['marks'] >=30 and student['marks'] <45:\n",
    "        print(f'name = {student[\"name\"]} : grade = C')\n",
    "    elif student['marks'] >=45 and student['marks'] <60:\n",
    "        print(f'name = {student[\"name\"]} : grade = B')\n",
    "    elif student['marks'] >=60 and student['marks'] <75:\n",
    "        print(f'name = {student[\"name\"]} : grade = A')\n",
    "    else:\n",
    "        print(f'name = {student[\"name\"]} : grade = A*')"
   ]
  },
  {
   "cell_type": "code",
   "execution_count": null,
   "metadata": {},
   "outputs": [],
   "source": []
  }
 ],
 "metadata": {
  "kernelspec": {
   "display_name": "venv",
   "language": "python",
   "name": "python3"
  },
  "language_info": {
   "codemirror_mode": {
    "name": "ipython",
    "version": 3
   },
   "file_extension": ".py",
   "mimetype": "text/x-python",
   "name": "python",
   "nbconvert_exporter": "python",
   "pygments_lexer": "ipython3",
   "version": "3.11.5"
  },
  "orig_nbformat": 4
 },
 "nbformat": 4,
 "nbformat_minor": 2
}
